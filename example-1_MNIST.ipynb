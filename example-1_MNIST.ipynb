{
 "metadata": {
  "language_info": {
   "codemirror_mode": {
    "name": "ipython",
    "version": 3
   },
   "file_extension": ".py",
   "mimetype": "text/x-python",
   "name": "python",
   "nbconvert_exporter": "python",
   "pygments_lexer": "ipython3",
   "version": "3.7.4-final"
  },
  "orig_nbformat": 2,
  "kernelspec": {
   "name": "python3",
   "display_name": "Python 3",
   "language": "python"
  }
 },
 "nbformat": 4,
 "nbformat_minor": 2,
 "cells": [
  {
   "cell_type": "code",
   "execution_count": 1,
   "metadata": {},
   "outputs": [],
   "source": [
    "import tensorflow as tf\n",
    "from tensorflow import keras\n",
    "from tensorflow.keras.datasets import mnist\n",
    "from tensorflow.keras import backend as K\n",
    "import numpy as np\n",
    "from utils import sampling\n",
    "import matplotlib.pyplot as plt\n",
    "from time import time"
   ]
  },
  {
   "cell_type": "code",
   "execution_count": 2,
   "metadata": {},
   "outputs": [],
   "source": [
    "# Get data and preprocess\n",
    "(x_train, y_train), _ = mnist.load_data()\n",
    "x_train = x_train.astype('float32') / 255.0\n",
    "x_train = x_train.reshape((len(x_train)), np.prod(x_train.shape[1:]))\n"
   ]
  },
  {
   "cell_type": "code",
   "execution_count": 3,
   "metadata": {},
   "outputs": [],
   "source": [
    "#%%\n",
    "# Implementacija enkoderja:\n",
    "original_dim = np.prod(x_train.shape[1:]) # dimenzija vhodnih podatkov\n",
    "hidden_dim = 64 # skriti sloj z 64 node -i\n",
    "latent_dim = 2 # 2D latentni prostor"
   ]
  },
  {
   "cell_type": "code",
   "execution_count": 4,
   "metadata": {},
   "outputs": [],
   "source": [
    "\n",
    "# Input layer\n",
    "inputs = keras.Input(shape=(original_dim ,) )\n",
    "# First hidden layer\n",
    "h = keras.layers.Dense(hidden_dim, activation ='selu')(inputs)\n",
    "\n",
    "z_mean = keras.layers.Dense(latent_dim)(h)\n",
    "z_log_var = keras.layers.Dense(latent_dim)(h)\n",
    "\n",
    "# Layer that calculates value z = z_mean + z_var * epsilon\n",
    "z = keras.layers.Lambda(sampling)([z_mean, z_log_var])\n",
    "\n",
    "#Define model for encoder:\n",
    "# encoder returns z_mean, z_log_var, z\n",
    "encoder = keras.Model(inputs, [z_mean, z_log_var, z], name='encoder')\n",
    "# %%\n",
    "# Implementation of decoder\n",
    "latent_inputs = keras.Input(shape=(latent_dim, ), name='z_sampling')\n",
    "# hidden layer x\n",
    "x = keras.layers.Dense(hidden_dim, activation='selu')(latent_inputs)\n",
    "outputs = keras.layers.Dense(original_dim, activation='sigmoid')(x)\n",
    "decoder = keras.Model(latent_inputs, outputs, name='decoder')"
   ]
  },
  {
   "cell_type": "code",
   "execution_count": 5,
   "metadata": {},
   "outputs": [],
   "source": [
    "# Define VAE\n",
    "outputs = decoder(encoder(inputs)[2])\n",
    "vae = keras.Model(inputs, outputs, name='vae')\n",
    "\n",
    "rec_loss = keras.losses.binary_crossentropy(inputs, outputs)\n",
    "rec_loss *= original_dim\n",
    "kl_loss = -0.5*K.sum(1 + z_log_var - K.square(z_mean) - K.exp(z_log_var), axis=-1)\n",
    "vae_loss = K.mean(rec_loss + kl_loss)\n",
    "vae.add_loss(vae_loss)\n",
    "vae.compile(optimizer=\"adam\")\n"
   ]
  },
  {
   "cell_type": "code",
   "execution_count": 6,
   "metadata": {},
   "outputs": [
    {
     "output_type": "stream",
     "name": "stdout",
     "text": [
      "Epoch 1/10\n",
      "1875/1875 [==============================] - 4s 2ms/step - loss: 192.4300\n",
      "Epoch 2/10\n",
      "1875/1875 [==============================] - 3s 2ms/step - loss: 176.7038\n",
      "Epoch 3/10\n",
      "1875/1875 [==============================] - 3s 2ms/step - loss: 172.4216\n",
      "Epoch 4/10\n",
      "1875/1875 [==============================] - 3s 2ms/step - loss: 169.2613\n",
      "Epoch 5/10\n",
      "1875/1875 [==============================] - 3s 2ms/step - loss: 167.5847\n",
      "Epoch 6/10\n",
      "1875/1875 [==============================] - 3s 2ms/step - loss: 166.2740\n",
      "Epoch 7/10\n",
      "1875/1875 [==============================] - 3s 2ms/step - loss: 165.1757\n",
      "Epoch 8/10\n",
      "1875/1875 [==============================] - 4s 2ms/step - loss: 164.2603\n",
      "Epoch 9/10\n",
      "1875/1875 [==============================] - 3s 2ms/step - loss: 163.4589\n",
      "Epoch 10/10\n",
      "1875/1875 [==============================] - 3s 2ms/step - loss: 162.7502\n",
      "Elapsed time =  33.52635335922241\n"
     ]
    }
   ],
   "source": [
    "# Train model on train data\n",
    "batch_size = 32\n",
    "start = time()\n",
    "history = vae.fit(x_train, x_train, epochs=10, batch_size=batch_size, validation_data=None)\n",
    "\n",
    "print(\"Elapsed time = %.0fs\" %(time()-start))"
   ]
  },
  {
   "cell_type": "code",
   "execution_count": null,
   "metadata": {},
   "outputs": [],
   "source": []
  }
 ]
}